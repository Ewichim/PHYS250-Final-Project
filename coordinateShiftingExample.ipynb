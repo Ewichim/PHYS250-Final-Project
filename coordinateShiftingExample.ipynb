{
 "cells": [
  {
   "cell_type": "code",
   "execution_count": 1,
   "metadata": {},
   "outputs": [],
   "source": [
    "import numpy as np\n",
    "import matplotlib.pyplot as plt\n",
    "import ipywidgets as widgets\n",
    "import utils.delphesRootToPixelAvTrackList as utils\n",
    "import pandas as pd\n",
    "h=30"
   ]
  },
  {
   "cell_type": "code",
   "execution_count": 2,
   "metadata": {},
   "outputs": [],
   "source": [
    "def plot(num, R, q, theta, xmin, xmax, ymin, ymax):\n",
    "    xOuter = h*np.cos(theta)\n",
    "    yOuter = h*np.sin(theta)\n",
    "\n",
    "    # The maximum and minimum possible entry points with respect to the whole pixel sensor:\n",
    "    yentrymin=-16/2+0.08125\n",
    "    yentrymax=16/2-0.08125\n",
    "\n",
    "    # Using the max and min allowed entry points, get the max and min possible beta values\n",
    "    betamin = utils.getBeta(yentrymax, R, q)\n",
    "    betamax = utils.getBeta(yentrymin, R, q)\n",
    "\n",
    "    # Pick a beta within the allowed range\n",
    "    beta=betamin+(betamax-betamin)*num\n",
    "\n",
    "    # Get the y entry point\n",
    "    y0, xc, yc = utils.getYentry(R, q, beta)\n",
    "\n",
    "    x,y=utils.getCrossingPoint(xc,yc,R,q)\n",
    "\n",
    "    gamma=utils.getGamma(xOuter, yOuter, xc, yc, R, q)\n",
    "\n",
    "    xc_particle=xc*np.cos(gamma)-yc*np.sin(gamma)\n",
    "    yc_particle=xc*np.sin(gamma)+yc*np.cos(gamma)\n",
    "\n",
    "    fig, ax = plt.subplots(1, figsize=(5,4), dpi=200)\n",
    "    circle=plt.Circle((xc, yc), R, fill=0, color='b', label = \"Assumed particle track\")\n",
    "    circle0=plt.Circle((xc_particle, yc_particle), R, fill=0, color='g', label = \"Actuall particle track\")\n",
    "    circle1=plt.Circle((0, 0), h, fill=0, color='k', label=\"Barrel\")\n",
    "    ax.add_patch(circle)\n",
    "    ax.add_patch(circle0)\n",
    "    ax.add_patch(circle1)\n",
    "    ax.scatter(h,-y0, label=\"Point where particle crosses sensor (based on assumed sensor location)\")\n",
    "    ax.scatter(xc,yc,c='k')\n",
    "    ax.scatter(x,y,c='m', label=\"Point where particle crosses r = 30 mm (based on assumed sensor location)\")\n",
    "    ax.scatter(xOuter,yOuter,c='orange', label=\"Actual location where particle crossed r = 30 mm\")\n",
    "    ax.quiver(h,-y0, np.cos(beta-np.pi/2), np.sin(beta-np.pi/2), angles='xy')\n",
    "    ax.plot((h,h), (-8,8),color='r', label=\"Assumed sensor location\")\n",
    "    #ax.axhline(y=h, xmin=-8, xmax=8, color='black')\n",
    "    ax.set_xlim(xmin,xmax)\n",
    "    ax.set_ylim(ymin,ymax)\n",
    "    ax.set_title(f\"Gamma={round(gamma/np.pi,2)}\\u03C0, y-entry={round(y0,3)}\")\n",
    "    plt.gca().set_aspect('equal')\n",
    "    ax.legend(loc='center left', bbox_to_anchor=(1, 0.5))\n",
    "    fig.canvas.draw()\n",
    "\n"
   ]
  },
  {
   "cell_type": "code",
   "execution_count": 3,
   "metadata": {},
   "outputs": [
    {
     "data": {
      "application/vnd.jupyter.widget-view+json": {
       "model_id": "9d97d8c007da46a78444d119ed36ec75",
       "version_major": 2,
       "version_minor": 0
      },
      "text/plain": [
       "interactive(children=(FloatSlider(value=0.0, description='num', max=1.0, step=0.01), IntSlider(value=200, desc…"
      ]
     },
     "metadata": {},
     "output_type": "display_data"
    },
    {
     "data": {
      "text/plain": [
       "<function __main__.plot(num, R, q, theta, xmin, xmax, ymin, ymax)>"
      ]
     },
     "execution_count": 3,
     "metadata": {},
     "output_type": "execute_result"
    }
   ],
   "source": [
    "widgets.interact(plot, num=(0, 1, .01), R=widgets.IntSlider(min=100, max=300, step=1, value=200), q=[-1,1], theta=(0, 2*np.pi, 0.1), xmin=widgets.IntSlider(min=-35, max=35, step=1, value=-35), xmax=widgets.IntSlider(min=0, max=35, step=1, value=35), ymin=widgets.IntSlider(min=-35, max=35, step=1, value=-35), ymax=widgets.IntSlider(min=0, max=35, step=1, value=35))"
   ]
  },
  {
   "cell_type": "code",
   "execution_count": 4,
   "metadata": {},
   "outputs": [],
   "source": [
    "def plot(q, pT, theta, xmin, xmax, ymin, ymax):\n",
    "    temp = pd.DataFrame()\n",
    "\n",
    "    xOuter = h*np.cos(theta)\n",
    "    yOuter = h*np.sin(theta)\n",
    "    temp[\"Track.XOuter\"]=np.array([xOuter])\n",
    "    temp[\"Track.YOuter\"]=np.array([yOuter])\n",
    "\n",
    "    temp[\"Track.Charge\"]=np.array([q])\n",
    "    temp[\"Track.PT\"] = np.array([pT])\n",
    "    temp[\"Track.PID\"] = np.array([q*211])\n",
    "\n",
    "    temp[\"Track.EtaOuter\"] = np.array([1])\n",
    "\n",
    "    alpha, beta, yentry, gamma, xc, yc, xc_actual, yc_actual, R, nx, ny, nz = utils.ArrangeSensor(temp,True)\n",
    "\n",
    "    beta=beta[0]\n",
    "    yentry=yentry[0]\n",
    "    gamma=gamma[0]\n",
    "    xc=xc[0]\n",
    "    yc=yc[0]\n",
    "    xc_actual=xc_actual[0]\n",
    "    yc_actual=yc_actual[0]\n",
    "    R=R[0]\n",
    "\n",
    "    fig, ax = plt.subplots(1, figsize=(5,4), dpi=200)\n",
    "    circle=plt.Circle((xc, yc), R, fill=0, color='b', label = \"Assumed particle track\")\n",
    "    circle0=plt.Circle((xc_actual, yc_actual), R, fill=0, color='g', label = \"Actuall particle track\")\n",
    "    circle1=plt.Circle((0, 0), h, fill=0, color='k', label=\"Barrel\")\n",
    "    ax.add_patch(circle)\n",
    "    ax.add_patch(circle0)\n",
    "    ax.add_patch(circle1)\n",
    "    ax.scatter(h,-yentry, label=\"Point where particle crosses sensor  (based on assumed sensor location)\")\n",
    "    #ax.scatter(xc,yc,c='b')\n",
    "    #ax.scatter(x,y,c='m', label=\"Point where particle crosses r = 30 mm (based on assumed sensor location)\")\n",
    "    ax.scatter(xOuter,yOuter,c='orange', label=\"Actual location where particle crossed r = 30 mm\")\n",
    "    ax.quiver(h,-yentry, np.sin(beta), np.cos(beta), angles='xy')\n",
    "    ax.quiver(h,-yentry, np.sin(beta), np.cos(beta), angles='xy')\n",
    "    ax.plot((h,h), (-8,8),color='r', label=\"Assumed sensor location\")\n",
    "    #ax.axhline(y=h, xmin=-8, xmax=8, color='black')\n",
    "    ax.set_xlim(xmin,xmax)\n",
    "    ax.set_ylim(ymin,ymax)\n",
    "    ax.set_title(f\"Gamma={round(gamma/np.pi,2)}\\u03C0, y-entry={round(yentry,3)}\")\n",
    "    plt.gca().set_aspect('equal')\n",
    "    ax.legend(loc='center left', bbox_to_anchor=(1, 0.5))\n",
    "    fig.canvas.draw()\n",
    "\n"
   ]
  },
  {
   "cell_type": "code",
   "execution_count": 5,
   "metadata": {},
   "outputs": [
    {
     "data": {
      "application/vnd.jupyter.widget-view+json": {
       "model_id": "ae0d593311ee4a09a080cf4361c997e8",
       "version_major": 2,
       "version_minor": 0
      },
      "text/plain": [
       "interactive(children=(Dropdown(description='q', options=(-1, 1), value=-1), FloatSlider(value=1.0, description…"
      ]
     },
     "metadata": {},
     "output_type": "display_data"
    },
    {
     "data": {
      "text/plain": [
       "<function __main__.plot(q, pT, theta, xmin, xmax, ymin, ymax)>"
      ]
     },
     "execution_count": 5,
     "metadata": {},
     "output_type": "execute_result"
    }
   ],
   "source": [
    "\n",
    "widgets.interact(plot, q=[-1,1], pT= (1,2,.1),theta=(0, 2*np.pi, 0.1), xmin=widgets.IntSlider(min=-35, max=35, step=1, value=-35), xmax=widgets.IntSlider(min=0, max=35, step=1, value=35), ymin=widgets.IntSlider(min=-35, max=35, step=1, value=-35), ymax=widgets.IntSlider(min=0, max=35, step=1, value=35))"
   ]
  },
  {
   "cell_type": "code",
   "execution_count": null,
   "metadata": {},
   "outputs": [],
   "source": []
  }
 ],
 "metadata": {
  "kernelspec": {
   "display_name": "venv",
   "language": "python",
   "name": "venv"
  },
  "language_info": {
   "codemirror_mode": {
    "name": "ipython",
    "version": 3
   },
   "file_extension": ".py",
   "mimetype": "text/x-python",
   "name": "python",
   "nbconvert_exporter": "python",
   "pygments_lexer": "ipython3",
   "version": "3.9.18"
  }
 },
 "nbformat": 4,
 "nbformat_minor": 2
}
