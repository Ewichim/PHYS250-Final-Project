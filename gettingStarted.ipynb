{
 "cells": [
  {
   "cell_type": "code",
   "execution_count": 1,
   "id": "2f0afe36-4c44-4105-a6c7-4cd30fd4482d",
   "metadata": {},
   "outputs": [],
   "source": [
    "import numpy as np\n",
    "import pandas as pd\n",
    "import matplotlib\n",
    "import matplotlib.pyplot as plt                               \n",
    "import os \n",
    "import matplotlib.colors as mcolors\n",
    "from matplotlib.ticker import MultipleLocator\n",
    "import matplotlib.ticker as ticker\n",
    "from mpl_toolkits.axes_grid1 import make_axes_locatable\n",
    "import ipywidgets as widgets"
   ]
  },
  {
   "cell_type": "code",
   "execution_count": 2,
   "id": "73122966",
   "metadata": {},
   "outputs": [],
   "source": [
    "cmap = mcolors.LinearSegmentedColormap.from_list(\"\", [\"white\",\"red\",\"darkred\"])"
   ]
  },
  {
   "cell_type": "code",
   "execution_count": 3,
   "id": "460ac711-976f-41ed-8a01-29a6b6e8adaf",
   "metadata": {},
   "outputs": [],
   "source": [
    "def plotCluster(index, timeSlice):\n",
    "    label = truth.iloc[index]\n",
    "    cluster = recon2D.iloc[index].to_numpy().reshape(13,21)\n",
    "    clusterSlice = recon3D.iloc[index].to_numpy().reshape(20,13,21)[timeSlice]\n",
    "    \n",
    "    fig, ax = plt.subplots(1,2, figsize=(12,5),dpi=200)\n",
    "\n",
    "    # Plot charge collected in each pixel\n",
    "    datamin = cluster.min()\n",
    "    datamax = cluster.max()\n",
    "    #vmax = max(abs(datamin),abs(datamax))\n",
    "    #vmin = -vmax\n",
    "    im = ax[1].imshow(cluster, vmin=datamin, vmax=datamax, cmap=cmap,interpolation='nearest')\n",
    "    divider = make_axes_locatable(ax[1])\n",
    "    cax = divider.append_axes('right', size='4%', pad=0.05)\n",
    "    fig.colorbar(im, cax=cax, location='right',label='Number of eh pairs')\n",
    "    ax[1].set_title(\"Overall charge collected\")\n",
    "\n",
    "    im = ax[0].imshow(clusterSlice, vmin=datamin, vmax=datamax, cmap=cmap, interpolation='nearest')\n",
    "    divider = make_axes_locatable(ax[0])\n",
    "    cax = divider.append_axes('right', size='4%', pad=0.05)\n",
    "    fig.colorbar(im, cax=cax, location='right',label='Number of eh pairs')\n",
    "    ax[0].set_title(f\"Charge collected by {round(timeSlice*.2+.2, 2)} ns\")\n",
    "\n",
    "    # Draw grid on both\n",
    "    for axis in ax:\n",
    "        axis.set_xlim(-0.5,20.5)\n",
    "        axis.set_ylim(-0.5,12.5)\n",
    "        axis.xaxis.set_major_locator(ticker.MultipleLocator(1))\n",
    "        axis.yaxis.set_major_locator(ticker.MultipleLocator(1))\n",
    "        axis.xaxis.set_minor_locator(ticker.MultipleLocator(0.5))\n",
    "        axis.yaxis.set_minor_locator(ticker.MultipleLocator(0.5))\n",
    "        plt.tick_params(axis='x', which='both', bottom=False, top=False, labelbottom=False)\n",
    "        plt.tick_params(axis='y', which='both', left=False, right=False, labelleft=False)\n",
    "        axis.grid(which=\"minor\", color=\"grey\", linestyle='-', linewidth=0.5,snap=False)\n",
    "    \n",
    "    # Adjust truth values for coordinate system (the origin is in the center of the ROI)\n",
    "    xentry = label['x-entry']/50 + 21/2\n",
    "    yentry = label['y-entry']/12.5 + 13/2\n",
    "    xmid = label['x-midplane']/50 + 21/2\n",
    "    ymid = label['y-midplane']/12.5 + 13/2\n",
    "    \n",
    "    ax[1].plot(xentry,yentry, 'b.',)\n",
    "    ax[1].plot(xmid,ymid, 'g.',)\n",
    "    ax[1].arrow(xentry, yentry, label['n_x']/50*100, label['n_y']/12.5*100, color='b',length_includes_head=True, head_width=.3, head_length=.3)\n",
    "    \n",
    "    plt.tight_layout(pad=3.5)\n",
    "    fig.canvas.draw()"
   ]
  },
  {
   "cell_type": "code",
   "execution_count": 5,
   "id": "49bf8920-5a52-453a-92dd-7b08e628b11a",
   "metadata": {},
   "outputs": [
    {
     "data": {
      "application/vnd.jupyter.widget-view+json": {
       "model_id": "4bfbae729e08481ea9ba588a6b75aeba",
       "version_major": 2,
       "version_minor": 0
      },
      "text/plain": [
       "interactive(children=(IntSlider(value=25, description='index', max=50), IntSlider(value=9, description='timeSl…"
      ]
     },
     "metadata": {},
     "output_type": "display_data"
    },
    {
     "data": {
      "text/plain": [
       "<function __main__.plotCluster(index, timeSlice)>"
      ]
     },
     "execution_count": 5,
     "metadata": {},
     "output_type": "execute_result"
    }
   ],
   "source": [
    "datadir = '/home/elizahoward/cmspix28-mc-sim/MuC_Output'\n",
    "tag = \"sig_2\"\n",
    "truth = pd.read_parquet(f\"{datadir}/labels{tag}.parquet\")\n",
    "recon2D = pd.read_parquet(f\"{datadir}/recon2D{tag}.parquet\")\n",
    "recon3D = pd.read_parquet(f\"{datadir}/recon3D{tag}.parquet\")\n",
    "widgets.interact(plotCluster, index=(0,50,1), timeSlice=(0,19,1))"
   ]
  },
  {
   "cell_type": "code",
   "execution_count": null,
   "id": "bb82f537",
   "metadata": {},
   "outputs": [],
   "source": []
  }
 ],
 "metadata": {
  "kernelspec": {
   "display_name": "venv",
   "language": "python",
   "name": "python3"
  },
  "language_info": {
   "codemirror_mode": {
    "name": "ipython",
    "version": 3
   },
   "file_extension": ".py",
   "mimetype": "text/x-python",
   "name": "python",
   "nbconvert_exporter": "python",
   "pygments_lexer": "ipython3",
   "version": "3.9.19"
  }
 },
 "nbformat": 4,
 "nbformat_minor": 5
}
