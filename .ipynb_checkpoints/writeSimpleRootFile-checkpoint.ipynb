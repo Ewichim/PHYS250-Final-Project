{
 "cells": [
  {
   "cell_type": "code",
   "execution_count": 3,
   "id": "0327b6cf-f97a-49c9-8dec-fee363f307f7",
   "metadata": {},
   "outputs": [],
   "source": [
    "import argparse\n",
    "import uproot\n",
    "import glob\n",
    "import awkward as ak\n",
    "import numpy as np\n",
    "import matplotlib.pyplot as plt\n",
    "import os\n",
    "import pandas as pd"
   ]
  },
  {
   "cell_type": "code",
   "execution_count": 1,
   "id": "f92d919e-e962-4174-9629-4bf31bd3148c",
   "metadata": {},
   "outputs": [],
   "source": [
    "path = \"/home/elizahoward/cmspix28-mc-sim/temp/\"\n",
    "filename = \"minbias_0.40_0.50_GeV.root\""
   ]
  },
  {
   "cell_type": "code",
   "execution_count": 34,
   "id": "ee701c89-9566-4b38-a7a1-236650405df4",
   "metadata": {},
   "outputs": [],
   "source": [
    "tree = \"Delphes\"\n",
    "branches = [\"Track.PID\", \"Track.PT\", \"Track.P\", \"Track.Eta\", \"Track.Phi\", \"Track.XOuter\", \"Track.YOuter\"]\n",
    "pionPID = 211 # plus/minus\n",
    "\n",
    "def reatRootFile(filename, path):\n",
    "    # load the branches\n",
    "    with uproot.open(path+filename) as f:\n",
    "        \n",
    "        temp = {}\n",
    "        for branch in branches:\n",
    "            temp[branch] = np.array(ak.flatten(f[tree][branch].array()))\n",
    "        \n",
    "        # selection\n",
    "        cut = (abs(temp[\"Track.PID\"])==pionPID)\n",
    "\n",
    "        # apply selection (remove everything except pions)\n",
    "        for branch in branches:\n",
    "            temp[branch] = temp[branch][cut]\n",
    "        \n",
    "        # track properties\n",
    "        # based on the image here https://github.com/kdp-lab/pixelav/blob/ppixelav2v2/ppixelav2_operating_inst.pdf\n",
    "        phi = ak.Array([[temp[\"Track.Phi\"][0]]]) # phi = alpha - pi -> cot(alpha) = cot(phi+pi) = cot(phi) = 1/tan(phi)\n",
    "        eta = ak.Array([[temp[\"Track.Eta\"][0]]]) # should be theta but need to get get it # theta = beta - pi -> cot(beta) = cot(theta+pi) = cot(theta) = 1/tan(theta)\n",
    "        p = ak.Array([[temp[\"Track.P\"][0]]]) # [GeV]\n",
    "        localx = ak.Array([[temp[\"Track.XOuter\"][0]]]) # [mm]\n",
    "        localy = ak.Array([[temp[\"Track.YOuter\"][0]]]) # [mm]\n",
    "        pT = ak.Array([[temp[\"Track.PT\"][0]]]) # [GeV]\n",
    "        pid = ak.Array([[temp[\"Track.PID\"][0]]])\n",
    "\n",
    "    print(f\"pid: {pid}, phi: {phi}, eta: {eta}, p: {p}, localx: {localx}, localy: {localy}, pT: {pT}\")\n",
    "        \n",
    "    return phi, eta, p, localx, localy, pT, pid\n",
    "    "
   ]
  },
  {
   "cell_type": "code",
   "execution_count": 35,
   "id": "82a97e0e-f059-46dc-9d0c-6eb85a0ba82a",
   "metadata": {},
   "outputs": [],
   "source": [
    "\n",
    "def writeSimpleRootFile(mainfile, path):\n",
    "    phi, eta, p, localx, localy, pT, pid = reatRootFile(mainfile, path)\n",
    "    \n",
    "    # Write root file with just the one entry\n",
    "    testfile = \"testTree.root\"\n",
    "    with uproot.recreate(path+testfile) as f:\n",
    "        #f[\"Delphes\"] = uproot.newtree({\"Track.PID\":awkward.float, \"Track.PT\":awkward.float, \"Track.P\":awkward.float, \"Track.Eta\":awkward.float, \"Track.Phi\":awkward.float, \"Track.XOuter\":awkward.float, \"Track.YOuter\":awkward.float})\n",
    "        #t.extend({\"Track.PID\":pid, \"Track.PT\":pT, \"Track.P\":p, \"Track.Eta\":eta, \"Track.Phi\":phi, \"Track.XOuter\":localx, \"Track.YOuter\":localy})\n",
    "        f[\"Delphes\"] = {\"Track.PID\":pid, \"Track.PT\":pT, \"Track.P\":p, \"Track.Eta\":eta, \"Track.Phi\":phi, \"Track.XOuter\":localx, \"Track.YOuter\":localy}\n",
    "    \n",
    "    reatRootFile(testfile, path)\n",
    "    "
   ]
  },
  {
   "cell_type": "code",
   "execution_count": 36,
   "id": "0667916d-bfdf-4e6d-9ab2-18ec44f0c06d",
   "metadata": {},
   "outputs": [
    {
     "name": "stdout",
     "output_type": "stream",
     "text": [
      "pid: [[211]], phi: [[1.65]], eta: [[-1.98]], p: [[2.81]], localx: [[-1.38]], localy: [[30]], pT: [[0.761]]\n",
      "pid: [[211]], phi: [[1.65]], eta: [[-1.98]], p: [[2.81]], localx: [[-1.38]], localy: [[30]], pT: [[0.761]]\n"
     ]
    }
   ],
   "source": [
    "writeSimpleRootFile(filename, path)"
   ]
  },
  {
   "cell_type": "code",
   "execution_count": null,
   "id": "7ae8f036-4c19-44dd-bd6b-86cbac366475",
   "metadata": {},
   "outputs": [],
   "source": []
  }
 ],
 "metadata": {
  "kernelspec": {
   "display_name": "venv",
   "language": "python",
   "name": "venv"
  },
  "language_info": {
   "codemirror_mode": {
    "name": "ipython",
    "version": 3
   },
   "file_extension": ".py",
   "mimetype": "text/x-python",
   "name": "python",
   "nbconvert_exporter": "python",
   "pygments_lexer": "ipython3",
   "version": "3.9.18"
  }
 },
 "nbformat": 4,
 "nbformat_minor": 5
}
