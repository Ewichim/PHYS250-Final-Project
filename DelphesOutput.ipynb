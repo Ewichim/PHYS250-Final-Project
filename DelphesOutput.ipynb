{
 "cells": [
  {
   "cell_type": "code",
   "execution_count": 2,
   "id": "24611ae0-759b-4e95-9624-4a18eaf4e00b",
   "metadata": {},
   "outputs": [],
   "source": [
    "import argparse\n",
    "import uproot\n",
    "import glob\n",
    "import awkward as ak\n",
    "import numpy as np\n",
    "import matplotlib.pyplot as plt\n",
    "import os\n",
    "import pandas as pd"
   ]
  },
  {
   "cell_type": "code",
   "execution_count": 1,
   "id": "d5bcb59b-c9b6-4529-b357-0f729c6fe418",
   "metadata": {},
   "outputs": [],
   "source": [
    "tree = \"Delphes\"\n",
    "branches = [\"Track.PID\", \"Track.Charge\", \"Track.PT\", \"Track.P\", \"Track.Eta\", \"Track.Phi\", \"Track.EtaOuter\", \"Track.PhiOuter\", \"Track.XOuter\", \"Track.YOuter\"]\n",
    "pionPID = 211 # plus/minus"
   ]
  },
  {
   "cell_type": "code",
   "execution_count": 3,
   "id": "b3a660ab",
   "metadata": {},
   "outputs": [],
   "source": [
    "def getDataFromRootFile(file):\n",
    "    with uproot.open(file) as f:\n",
    "        # load the branches\n",
    "        temp = {}\n",
    "        for branch in branches:\n",
    "            temp[branch] = np.array(ak.flatten(f[tree][branch].array()))\n",
    "        \n",
    "        # selection\n",
    "        cut = (abs(temp[\"Track.PID\"])==pionPID)\n",
    "\n",
    "        # apply selection\n",
    "        for branch in branches:\n",
    "            temp[branch] = temp[branch][cut]\n",
    "        \n",
    "        # Original Method:\n",
    "        #   phi = alpha - pi\n",
    "        #   theta = beta - pi\n",
    "        beta1 = temp[\"Track.PhiOuter\"]+np.pi\n",
    "\n",
    "        # Randomly generate beta between minimum and maximum allowed values\n",
    "        betamin = 1.31272\n",
    "        betamax = 1.82887\n",
    "        beta2 = np.random.uniform(betamin, betamax,size=len(temp[\"Track.PID\"]))\n",
    "        \n",
    "        # Determine yentry and ylocal based on beta\n",
    "        yentry = 30/np.tan(beta2)\n",
    "        ylocal=yentry+0.08125\n",
    "\n",
    "        # Get angle of hit location with respect to barrel\n",
    "        gamma0 = np.arctan2(temp[\"Track.YOuter\"],temp[\"Track.XOuter\"])\n",
    "\n",
    "        # Get angle of sensor center with respect to barrel\n",
    "        gamma=gamma0+yentry/30\n",
    "\n",
    "        # Define unit vector of track at tracker edge with respect to barrel\n",
    "        theta=2*np.arctan(np.exp(-temp[\"Track.EtaOuter\"]))\n",
    "        phi=temp[\"Track.PhiOuter\"]\n",
    "        x=np.sin(theta)*np.cos(phi)\n",
    "        y=np.sin(theta)*np.sin(phi)\n",
    "        z=np.cos(theta)\n",
    "\n",
    "        # Transform into rotated coordinate system (sensor coordinate system sort of)\n",
    "        xp=x*np.cos(gamma)+y*np.sin(gamma)\n",
    "        yp=-x*np.sin(gamma)+y*np.cos(gamma)\n",
    "\n",
    "        beta3=np.arctan2(yp,xp)+np.pi/2\n",
    "        alpha=np.arctan2(np.sqrt(xp**2+yp**2),z)\n",
    "        \n",
    "    df = pd.DataFrame()\n",
    "    df[\"Eta\"] = temp[\"Track.Eta\"]\n",
    "    df[\"EtaOuter\"] = temp[\"Track.EtaOuter\"]\n",
    "    df[\"Phi\"] = temp[\"Track.Phi\"]\n",
    "    df[\"PhiOuter\"] = temp[\"Track.PhiOuter\"]\n",
    "    df[\"Beta1\"] = beta1\n",
    "    df[\"Beta2\"] = beta2\n",
    "    df[\"Beta3\"] = beta3\n",
    "    df[\"Gamma\"] = gamma\n",
    "    df[\"alpha\"]=alpha\n",
    "    \n",
    "    return df"
   ]
  },
  {
   "cell_type": "code",
   "execution_count": 3,
   "id": "4ea1a6fd-4486-4bfb-95ce-288f0aa96750",
   "metadata": {},
   "outputs": [],
   "source": [
    "files = \"/home/elizahoward/cmspix28-mc-sim/temp/\"\n",
    "file = files+\"minbias_0.00_0.10_GeV.root\""
   ]
  },
  {
   "cell_type": "code",
   "execution_count": 5,
   "id": "460d6e3e",
   "metadata": {},
   "outputs": [],
   "source": [
    "df = getDataFromRootFile(file)\n"
   ]
  },
  {
   "cell_type": "code",
   "execution_count": 24,
   "id": "caf7359e",
   "metadata": {},
   "outputs": [
    {
     "data": {
      "text/plain": [
       "3.1404004122122204"
      ]
     },
     "execution_count": 24,
     "metadata": {},
     "output_type": "execute_result"
    }
   ],
   "source": [
    "np.max(df.Beta3)"
   ]
  },
  {
   "cell_type": "code",
   "execution_count": 25,
   "id": "ada0615c",
   "metadata": {},
   "outputs": [
    {
     "data": {
      "text/plain": [
       "-3.1414332489236867"
      ]
     },
     "execution_count": 25,
     "metadata": {},
     "output_type": "execute_result"
    }
   ],
   "source": [
    "np.min(df.Beta3)"
   ]
  },
  {
   "cell_type": "code",
   "execution_count": 4,
   "id": "45623a3f",
   "metadata": {},
   "outputs": [],
   "source": [
    "with uproot.open(file) as f:\n",
    "        # load the branches\n",
    "        temp = {}\n",
    "        for branch in branches:\n",
    "            temp[branch] = np.array(ak.flatten(f[tree][branch].array()))\n",
    "        \n",
    "        # selection\n",
    "        cut = (abs(temp[\"Track.PID\"])==pionPID)\n",
    "\n",
    "        # apply selection\n",
    "        for branch in branches:\n",
    "            temp[branch] = temp[branch][cut]\n",
    "        "
   ]
  },
  {
   "cell_type": "code",
   "execution_count": 5,
   "id": "343c87d2",
   "metadata": {},
   "outputs": [
    {
     "data": {
      "text/plain": [
       "array([-1, -1,  1, ...,  1,  1,  1], dtype=int32)"
      ]
     },
     "execution_count": 5,
     "metadata": {},
     "output_type": "execute_result"
    }
   ],
   "source": [
    "temp[\"Track.Charge\"]"
   ]
  },
  {
   "cell_type": "code",
   "execution_count": null,
   "id": "826339b4",
   "metadata": {},
   "outputs": [],
   "source": []
  }
 ],
 "metadata": {
  "kernelspec": {
   "display_name": "venv",
   "language": "python",
   "name": "venv"
  },
  "language_info": {
   "codemirror_mode": {
    "name": "ipython",
    "version": 3
   },
   "file_extension": ".py",
   "mimetype": "text/x-python",
   "name": "python",
   "nbconvert_exporter": "python",
   "pygments_lexer": "ipython3",
   "version": "3.9.18"
  }
 },
 "nbformat": 4,
 "nbformat_minor": 5
}
