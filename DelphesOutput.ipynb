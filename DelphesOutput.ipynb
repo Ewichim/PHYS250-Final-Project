{
 "cells": [
  {
   "cell_type": "code",
   "execution_count": 1,
   "id": "24611ae0-759b-4e95-9624-4a18eaf4e00b",
   "metadata": {},
   "outputs": [],
   "source": [
    "import argparse\n",
    "import uproot\n",
    "import glob\n",
    "import awkward as ak\n",
    "import numpy as np\n",
    "import matplotlib.pyplot as plt\n",
    "import os\n",
    "import pandas as pd"
   ]
  },
  {
   "cell_type": "code",
   "execution_count": 2,
   "id": "d5bcb59b-c9b6-4529-b357-0f729c6fe418",
   "metadata": {},
   "outputs": [],
   "source": [
    "tree = \"Delphes\"\n",
    "branches = [\"Track.PID\", \"Track.Charge\", \"Track.PT\", \"Track.P\", \"Track.Eta\", \"Track.Phi\", \"Track.EtaOuter\", \"Track.PhiOuter\", \"Track.XOuter\", \"Track.YOuter\"]\n",
    "pionPID = 211 # plus/minus"
   ]
  },
  {
   "cell_type": "code",
   "execution_count": 3,
   "id": "b3a660ab",
   "metadata": {},
   "outputs": [],
   "source": [
    "def getDataFromRootFile(file):\n",
    "    with uproot.open(file) as f:\n",
    "        # load the branches\n",
    "        temp = {}\n",
    "        for branch in branches:\n",
    "            temp[branch] = np.array(ak.flatten(f[tree][branch].array()))\n",
    "        \n",
    "        # selection\n",
    "        cut = (abs(temp[\"Track.PID\"])==pionPID)\n",
    "\n",
    "        # apply selection\n",
    "        for branch in branches:\n",
    "            temp[branch] = temp[branch][cut]\n",
    "    \n",
    "    return temp"
   ]
  },
  {
   "cell_type": "code",
   "execution_count": null,
   "id": "a6454c3e",
   "metadata": {},
   "outputs": [],
   "source": [
    "# Barrel radius\n",
    "h=30\n",
    "\n",
    "def getBetaNegative(y0, R):\n",
    "    yc=(h**2 + y0**2 - (h**2*y0**2)/(h**2 + y0**2) - y0**4/(h**2 + y0**2) +  \\\n",
    "             y0*np.sqrt(-h**2*(h**2 + y0**2)*(h**2 - 4*R**2 + y0**2))/(h**2 + y0**2))/(2*h)\n",
    "    beta = np.arccos((yc-h)/R)\n",
    "    return beta\n",
    "\n",
    "def getBetaPositive(y0, R):\n",
    "    yc=(h**2 + y0**2 - (h**2*y0**2)/(h**2 + y0**2) - y0**4/(h**2 + y0**2) -  \\\n",
    "             y0*np.sqrt(-h**2*(h**2 + y0**2)*(h**2 - 4*R**2 + y0**2))/(h**2 + y0**2))/(2*h)\n",
    "    beta = np.arccos((h-yc)/R)\n",
    "    return beta\n",
    "\n",
    "def getBeta(y0, R, q):\n",
    "    return np.where(q<0, getBetaNegative(y0, R), getBetaPositive(y0, R))\n",
    "\n",
    "def getYentryNegQ(R, beta):\n",
    "    yc = R*np.cos(beta)+h\n",
    "    y0 = -np.sqrt(R**2 - yc**2) + np.sqrt(-h**2 + R**2 + 2*h*yc - yc**2)\n",
    "    return y0\n",
    "    \n",
    "def getYentryPosQ(R, beta):\n",
    "    yc = -R*np.cos(beta)+h\n",
    "    y0 = np.sqrt(R**2 - yc**2) - np.sqrt(-h**2 + R**2 + 2*h*yc - yc**2)\n",
    "    return y0\n",
    "    \n",
    "def getYentry(R, q, beta):\n",
    "    return np.where(q<0, getYentryNegQ(R, beta), getYentryPosQ(R, beta))\n",
    "\n",
    "\n",
    "def getCircleCenterPos(phi):\n",
    "    return phi+np.pi/2\n",
    "\n",
    "def getCircleCenterNeg(phi):\n",
    "    return phi-np.pi/2\n",
    "\n",
    "def getCircleCenter(x,y,R,phi,q):\n",
    "    theta = np.where(q<0,getCircleCenterPos(phi),getCircleCenterNeg(phi))\n",
    "\n",
    "    x0=x-R*np.cos(theta)\n",
    "    y0=y-R*np.sin(theta)\n",
    "\n",
    "    return x0,y0\n",
    "\n",
    "def getPointOnCircle(x0,y0,d,R):\n",
    "    x = (1/(2*(x0**2 + y0**2)))*(d**2*x0 - R**2*x0 + x0**3 + x0*y0**2 - np.sqrt(-d**4*y0**2 + 2*d**2*R**2*y0**2 - R**4*y0**2 + 2*d**2*x0**2*y0**2 + 2*R**2*x0**2*y0**2 - x0**4*y0**2 + 2*d**2*y0**4 + 2*R**2*y0**4 - 2*x0**2*y0**4 - y0**6))\n",
    "        \n",
    "    y = -(1/(2*y0))*(-d**2 + R**2 - x0**2 - y0**2 + (d**2*x0**2)/(x0**2 + y0**2) - (R**2*x0**2)/(x0**2 + y0**2) + x0**4/(x0**2 + y0**2) + (x0**2 y0**2)/(x0**2 + y0**2) - (1/(x0**2 + y0**2))*x0 np.sqrt(-d**4*y0**2 + 2*d**2*R**2*y0**2 - R**4*y0**2 + 2*d**2*x0**2*y0**2 + 2*R**2*x0**2*y0**2 - x0**4*y0**2 + 2*d**2*y0**4 + 2*R**2*y0**4 - 2*x0**2*y0**4 - y0**6))\n",
    "    \n",
    "    return x,y\n",
    "\n",
    "\n",
    "def assumeCircle(temp):\n",
    "    # Get particle track radius\n",
    "    R = temp[\"Track.PT\"]*5.36/(np.abs(temp[\"Track.Charge\"])*1.60217663*3.8)*1000\n",
    "\n",
    "    # The maximum and minimum possible entry points with respect to the whole pixel sensor:\n",
    "    yentrymin=-16/2+0.08125\n",
    "    yentrymax=16/2-0.08125\n",
    "\n",
    "    # Using the max and min allowed entry points, get the max and min possible beta values\n",
    "    betamin = getBeta(yentrymax, R, temp[\"Track.Charge\"])\n",
    "    betamax = getBeta(yentrymin, R, temp[\"Track.Charge\"])\n",
    "\n",
    "    # Randomly pick a beta within the allowed range\n",
    "    beta=np.empty(len(temp[\"Track.PID\"]))\n",
    "    for i in range(len(temp[\"Track.PID\"])):\n",
    "        beta[i]=np.random.uniform(betamin[i], betamax[i])\n",
    "\n",
    "    # Get the y entry point\n",
    "    yentry=getYentry(R, temp[\"Track.Charge\"], beta)\n",
    "\n",
    "    x0, y0 = getCircleCenter(temp[\"Track.XOuter\"],temp[\"Track.YOuter\"], R, temp[\"Track.PhiOuter\"],temp[\"Track.Charge\"])\n",
    "\n",
    "    xHit, yHit = getPointOnCircle(x0, y0, np.sqrt(yentry**2+R, R)\n",
    "\n",
    "    return yentry, beta"
   ]
  },
  {
   "cell_type": "code",
   "execution_count": 5,
   "id": "4ea1a6fd-4486-4bfb-95ce-288f0aa96750",
   "metadata": {},
   "outputs": [],
   "source": [
    "files = \"/home/elizahoward/cmspix28-mc-sim/minbiasDataSet3/\"\n",
    "file = files+\"minbias_0.00_0.10_GeV.root\""
   ]
  },
  {
   "cell_type": "code",
   "execution_count": 6,
   "id": "460d6e3e",
   "metadata": {},
   "outputs": [],
   "source": [
    "temp = getDataFromRootFile(file)\n"
   ]
  },
  {
   "cell_type": "code",
   "execution_count": 7,
   "id": "358622a0",
   "metadata": {},
   "outputs": [
    {
     "data": {
      "text/plain": [
       "array([-1,  1,  1, ...,  1,  1,  1], dtype=int32)"
      ]
     },
     "execution_count": 7,
     "metadata": {},
     "output_type": "execute_result"
    }
   ],
   "source": [
    "temp[\"Track.Charge\"]"
   ]
  },
  {
   "cell_type": "code",
   "execution_count": 8,
   "id": "f6d1fbd0",
   "metadata": {},
   "outputs": [
    {
     "data": {
      "text/plain": [
       "array([-211,  211,  211, ...,  211,  211,  211], dtype=int32)"
      ]
     },
     "execution_count": 8,
     "metadata": {},
     "output_type": "execute_result"
    }
   ],
   "source": [
    "temp[\"Track.PID\"]"
   ]
  },
  {
   "cell_type": "code",
   "execution_count": null,
   "id": "cccb33dc",
   "metadata": {},
   "outputs": [],
   "source": []
  }
 ],
 "metadata": {
  "kernelspec": {
   "display_name": "venv",
   "language": "python",
   "name": "venv"
  },
  "language_info": {
   "codemirror_mode": {
    "name": "ipython",
    "version": 3
   },
   "file_extension": ".py",
   "mimetype": "text/x-python",
   "name": "python",
   "nbconvert_exporter": "python",
   "pygments_lexer": "ipython3",
   "version": "3.9.18"
  }
 },
 "nbformat": 4,
 "nbformat_minor": 5
}
